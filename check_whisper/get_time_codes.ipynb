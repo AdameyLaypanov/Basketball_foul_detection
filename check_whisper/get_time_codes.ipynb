{
 "cells": [
  {
   "cell_type": "code",
   "id": "initial_id",
   "metadata": {
    "collapsed": true,
    "ExecuteTime": {
     "end_time": "2025-03-21T12:32:41.677836Z",
     "start_time": "2025-03-21T12:32:40.510473Z"
    }
   },
   "source": [
    "import whisper\n",
    "import re\n",
    "from upload_video import download_video"
   ],
   "outputs": [],
   "execution_count": 1
  },
  {
   "metadata": {
    "ExecuteTime": {
     "end_time": "2025-03-21T12:32:50.019637Z",
     "start_time": "2025-03-21T12:32:41.680749Z"
    }
   },
   "cell_type": "code",
   "source": "model = whisper.load_model(\"large\")\n",
   "id": "823305dc98074d30",
   "outputs": [
    {
     "name": "stderr",
     "output_type": "stream",
     "text": [
      "/opt/anaconda3/lib/python3.12/site-packages/whisper/__init__.py:150: FutureWarning: You are using `torch.load` with `weights_only=False` (the current default value), which uses the default pickle module implicitly. It is possible to construct malicious pickle data which will execute arbitrary code during unpickling (See https://github.com/pytorch/pytorch/blob/main/SECURITY.md#untrusted-models for more details). In a future release, the default value for `weights_only` will be flipped to `True`. This limits the functions that could be executed during unpickling. Arbitrary objects will no longer be allowed to be loaded via this mode unless they are explicitly allowlisted by the user via `torch.serialization.add_safe_globals`. We recommend you start setting `weights_only=True` for any use case where you don't have full control of the loaded file. Please open an issue on GitHub for any issues related to this experimental feature.\n",
      "  checkpoint = torch.load(fp, map_location=device)\n"
     ]
    }
   ],
   "execution_count": 2
  },
  {
   "metadata": {
    "jupyter": {
     "is_executing": true
    },
    "ExecuteTime": {
     "start_time": "2025-03-21T12:32:50.153853Z"
    }
   },
   "cell_type": "code",
   "source": [
    "def transcribe_audio(audio_file):\n",
    "    result = model.transcribe(audio_file)\n",
    "    return result\n",
    "\n",
    "# Функция для поиска фолов в транскрибированном тексте\n",
    "def detect_foul_moments_with_time(transcription_data):\n",
    "    foul_keywords = ['foul', 'blocking foul', 'shooting foul', 'personal foul']\n",
    "    moments = []\n",
    "\n",
    "    for segment in transcription_data['segments']:\n",
    "        for keyword in foul_keywords:\n",
    "            if keyword in segment['text'].lower():\n",
    "                moments.append({\n",
    "                    \"start_time\": segment['start'],  # Начало фрагмента\n",
    "                    \"end_time\": segment['end'],      # Конец фрагмента\n",
    "                    \"text\": segment['text']\n",
    "                })\n",
    "    return moments\n",
    "\n",
    "# Основная функция для обработки видео\n",
    "def process_video(url):\n",
    "    audio_file = download_video(url)\n",
    "    transcription_data = transcribe_audio(audio_file)\n",
    "    foul_moments = detect_foul_moments_with_time(transcription_data)\n",
    "    return foul_moments\n",
    "\n",
    "# Пример использования\n",
    "url = \"https://youtu.be/ufOiMggc6pw?si=Hj0LN_Rwknk29OOw\"\n",
    "foul_moments = process_video(url)\n",
    "\n",
    "# Выводим результаты\n",
    "for moment in foul_moments:\n",
    "    start_time = moment['start_time']\n",
    "    end_time = moment['end_time']\n",
    "    text = moment['text']\n",
    "    print(f\"Foul detected between {start_time:.2f}s and {end_time:.2f}s: {text}\")"
   ],
   "id": "957ab014646ae2f6",
   "outputs": [
    {
     "name": "stderr",
     "output_type": "stream",
     "text": [
      "/opt/anaconda3/lib/python3.12/site-packages/whisper/transcribe.py:126: UserWarning: FP16 is not supported on CPU; using FP32 instead\n",
      "  warnings.warn(\"FP16 is not supported on CPU; using FP32 instead\")\n"
     ]
    }
   ],
   "execution_count": null
  }
 ],
 "metadata": {
  "kernelspec": {
   "display_name": "Python 3",
   "language": "python",
   "name": "python3"
  },
  "language_info": {
   "codemirror_mode": {
    "name": "ipython",
    "version": 2
   },
   "file_extension": ".py",
   "mimetype": "text/x-python",
   "name": "python",
   "nbconvert_exporter": "python",
   "pygments_lexer": "ipython2",
   "version": "2.7.6"
  }
 },
 "nbformat": 4,
 "nbformat_minor": 5
}
