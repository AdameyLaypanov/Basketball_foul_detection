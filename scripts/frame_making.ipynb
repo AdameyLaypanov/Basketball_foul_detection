{
 "cells": [
  {
   "cell_type": "code",
   "id": "initial_id",
   "metadata": {
    "collapsed": true,
    "ExecuteTime": {
     "end_time": "2025-01-20T10:34:34.417991Z",
     "start_time": "2025-01-20T10:34:32.292497Z"
    }
   },
   "source": [
    "import cv2\n",
    "import os\n",
    "\n",
    "video_path = '/Users/admlanno/Desktop/Курсовая/raw_data/Untitled Project.mov'\n",
    "output_folder = '/Users/admlanno/Desktop/Курсовая/raw_data/Frames/guard_3_view2'\n",
    "\n",
    "os.makedirs(output_folder, exist_ok=True)\n",
    "\n",
    "cap = cv2.VideoCapture(video_path)\n",
    "frame_rate = int(cap.get(cv2.CAP_PROP_FPS)) \n",
    "count = 0\n",
    "frame_skip = 5 \n",
    "\n",
    "while cap.isOpened():\n",
    "    ret, frame = cap.read()\n",
    "    if not ret:\n",
    "        break\n",
    "    if count % frame_skip == 0:\n",
    "        \n",
    "        frame_filename = f\"{output_folder}/frame_{count:04d}.jpg\"\n",
    "        cv2.imwrite(frame_filename, frame)\n",
    "    count += 1\n",
    "\n",
    "cap.release()\n",
    "print(f\"Extracted {count // frame_skip} frames out of {count} total frames.\")"
   ],
   "outputs": [
    {
     "name": "stdout",
     "output_type": "stream",
     "text": [
      "Extracted 33 frames out of 168 total frames.\n"
     ]
    }
   ],
   "execution_count": 2
  }
 ],
 "metadata": {
  "kernelspec": {
   "display_name": "Python 3",
   "language": "python",
   "name": "python3"
  },
  "language_info": {
   "codemirror_mode": {
    "name": "ipython",
    "version": 2
   },
   "file_extension": ".py",
   "mimetype": "text/x-python",
   "name": "python",
   "nbconvert_exporter": "python",
   "pygments_lexer": "ipython2",
   "version": "2.7.6"
  }
 },
 "nbformat": 4,
 "nbformat_minor": 5
}
